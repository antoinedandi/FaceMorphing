{
  "nbformat": 4,
  "nbformat_minor": 0,
  "metadata": {
    "colab": {
      "name": "FaceMorphing.ipynb",
      "provenance": [],
      "collapsed_sections": [],
      "toc_visible": true
    },
    "kernelspec": {
      "name": "python3",
      "display_name": "Python 3"
    },
    "accelerator": "GPU"
  },
  "cells": [
    {
      "cell_type": "markdown",
      "metadata": {
        "id": "YTvtuhEPXMDs",
        "colab_type": "text"
      },
      "source": [
        "# Face Morphing with StyleGAN"
      ]
    },
    {
      "cell_type": "code",
      "metadata": {
        "id": "hRTDGWwLi8al",
        "colab_type": "code",
        "colab": {}
      },
      "source": [
        "import os\n",
        "import pickle\n",
        "import numpy as np\n",
        "\n",
        "# Make sure tensorflow 1.15 is used\n",
        "%tensorflow_version 1.x\n",
        "import tensorflow as tf\n",
        "print(tf.__version__)"
      ],
      "execution_count": 0,
      "outputs": []
    },
    {
      "cell_type": "markdown",
      "metadata": {
        "id": "lcHqiVzrXYUV",
        "colab_type": "text"
      },
      "source": [
        "## 1) Encoding images into StyleGAN's latent space"
      ]
    },
    {
      "cell_type": "markdown",
      "metadata": {
        "id": "-Ni6KOnv8ABW",
        "colab_type": "text"
      },
      "source": [
        "#### Clone github repo for face morphing"
      ]
    },
    {
      "cell_type": "code",
      "metadata": {
        "id": "qcY5P36QXPK_",
        "colab_type": "code",
        "colab": {}
      },
      "source": [
        "# Clone github repo for face morphing\n",
        "!rm -rf sample_data\n",
        "!rm -rf FaceMorphing\n",
        "!git clone https://github.com/antoinedandi/FaceMorphing"
      ],
      "execution_count": 0,
      "outputs": []
    },
    {
      "cell_type": "markdown",
      "metadata": {
        "id": "6_xWaLe68HO2",
        "colab_type": "text"
      },
      "source": [
        "#### Setting up folder structure"
      ]
    },
    {
      "cell_type": "code",
      "metadata": {
        "id": "UXDBWZ55Xjjt",
        "colab_type": "code",
        "colab": {}
      },
      "source": [
        "# Setting up folder structure\n",
        "%cd FaceMorphing\n",
        "!rm -rf raw_images aligned_images generated_images guessed_images\n",
        "!mkdir raw_images aligned_images generated_images guessed_images\n",
        "!ls"
      ],
      "execution_count": 0,
      "outputs": []
    },
    {
      "cell_type": "code",
      "metadata": {
        "id": "ovDFD-LHxfPt",
        "colab_type": "code",
        "colab": {}
      },
      "source": [
        "# Importing useful functions / files\n",
        "import dnnlib\n",
        "import dnnlib.tflib as tflib\n",
        "from utils.utils import display_folder_content, generate_faces_from_latent, display_encoding_results, display_results_face_morphing, display_results_face_recognition"
      ],
      "execution_count": 0,
      "outputs": []
    },
    {
      "cell_type": "markdown",
      "metadata": {
        "id": "qw1oq3sugHQi",
        "colab_type": "text"
      },
      "source": [
        "#### **`/!\\ TODO :`** *Upload Images in the raw_images folder*"
      ]
    },
    {
      "cell_type": "markdown",
      "metadata": {
        "id": "aQEpe9sB8XNe",
        "colab_type": "text"
      },
      "source": [
        "#### Check uploaded faces"
      ]
    },
    {
      "cell_type": "code",
      "metadata": {
        "id": "1uH2DWYRYVe5",
        "colab_type": "code",
        "colab": {}
      },
      "source": [
        "# Check uploaded faces\n",
        "display_folder_content('raw_images')"
      ],
      "execution_count": 0,
      "outputs": []
    },
    {
      "cell_type": "markdown",
      "metadata": {
        "id": "us7PHvp88cxo",
        "colab_type": "text"
      },
      "source": [
        "#### Align Images"
      ]
    },
    {
      "cell_type": "code",
      "metadata": {
        "id": "R6kYHhfCYDfO",
        "colab_type": "code",
        "colab": {}
      },
      "source": [
        "# Look for, crop and align faces. Save the resulting images in the 'aligned_images' folder\n",
        "!python align_images.py raw_images/ aligned_images/ --output_size=1024"
      ],
      "execution_count": 0,
      "outputs": []
    },
    {
      "cell_type": "markdown",
      "metadata": {
        "id": "YFURKeQ98f_q",
        "colab_type": "text"
      },
      "source": [
        "#### Check aligned images"
      ]
    },
    {
      "cell_type": "code",
      "metadata": {
        "id": "u1qsaHcAYrcE",
        "colab_type": "code",
        "colab": {}
      },
      "source": [
        "# check aligned images\n",
        "display_folder_content('aligned_images')\n",
        "print(\"aligned_images contains %d images ready for encoding!\" %len(os.listdir('aligned_images/')))"
      ],
      "execution_count": 0,
      "outputs": []
    },
    {
      "cell_type": "markdown",
      "metadata": {
        "id": "n0BNlKXs8lGS",
        "colab_type": "text"
      },
      "source": [
        "#### Actual encoding process"
      ]
    },
    {
      "cell_type": "code",
      "metadata": {
        "id": "M8AIzG1wENAh",
        "colab_type": "code",
        "colab": {}
      },
      "source": [
        "# TODO : Setting up options for encoding process\n",
        "\n",
        "# General options\n",
        "bs = 2             # Batch size\n",
        "lr = 0.02          # Learning rate for perceptual model\n",
        "it = 100           # Number of optimization steps\n",
        "use_resnet = True  # Use pretrained ResNet for approximating dlatents\n",
        "\n",
        "\n",
        "# Loss options\n",
        "vgg_loss   = 0.4   # (default=0.4) - Use VGG perceptual loss\n",
        "pixel_loss = 1.5   # (default=1.5) - Use logcosh image pixel loss\n",
        "mssim_loss = 100   # (default=100) - Use MS-SIM perceptual loss\n",
        "lpips_loss = 100   # (default=100) - Use LPIPS perceptual loss\n",
        "l1_penalty = 1     # (default=1  ) - Use L1 penalty on latents\n"
      ],
      "execution_count": 0,
      "outputs": []
    },
    {
      "cell_type": "code",
      "metadata": {
        "id": "1LeDNwuywMAZ",
        "colab_type": "code",
        "colab": {}
      },
      "source": [
        "# Encoding images in latent space\n",
        "!python encode_images.py --batch_size={bs} --lr={lr} --iterations={it} --use_resnet={use_resnet} --use_vgg_loss={vgg_loss} --use_pixel_loss={pixel_loss} --use_mssim_loss={mssim_loss} --use_lpips_loss={lpips_loss} --use_l1_penalty={l1_penalty} aligned_images/ generated_images/encoding/ guessed_images/encoding/ latent_representations/encoding/\n",
        "print(\"\\n************ Latent code optimization finished! ***************\")"
      ],
      "execution_count": 0,
      "outputs": []
    },
    {
      "cell_type": "markdown",
      "metadata": {
        "id": "dGdNc7d38x0Q",
        "colab_type": "text"
      },
      "source": [
        "#### Check encoding results"
      ]
    },
    {
      "cell_type": "code",
      "metadata": {
        "id": "RzowYBVlVRr8",
        "colab_type": "code",
        "colab": {}
      },
      "source": [
        "# Display encoding results\n",
        "display_encoding_results('aligned_images', 'guessed_images/encoding', 'generated_images/encoding')"
      ],
      "execution_count": 0,
      "outputs": []
    },
    {
      "cell_type": "markdown",
      "metadata": {
        "id": "6CkF76cR9XcN",
        "colab_type": "text"
      },
      "source": [
        "## 2) Face Morphing by interpolating the latent space of StyleGAN"
      ]
    },
    {
      "cell_type": "code",
      "metadata": {
        "id": "C-a_uoTY6isU",
        "colab_type": "code",
        "colab": {}
      },
      "source": [
        "# TODO : Setting up options for encoding process\n",
        "\n",
        "# General options\n",
        "bs = 2             # Batch size\n",
        "lr = 0.02          # Learning rate for perceptual model\n",
        "it = 100           # Number of optimization steps\n",
        "use_resnet = True  # Use pretrained ResNet for approximating dlatents\n",
        "\n",
        "\n",
        "# Loss options\n",
        "vgg_loss   = 0.4   # (default=0.4) - Use VGG perceptual loss\n",
        "pixel_loss = 1.5   # (default=1.5) - Use logcosh image pixel loss\n",
        "mssim_loss = 100   # (default=100) - Use MS-SIM perceptual loss\n",
        "lpips_loss = 100   # (default=100) - Use LPIPS perceptual loss\n",
        "l1_penalty = 1     # (default=1  ) - Use L1 penalty on latents\n"
      ],
      "execution_count": 0,
      "outputs": []
    },
    {
      "cell_type": "code",
      "metadata": {
        "id": "t9DLFRix6r0n",
        "colab_type": "code",
        "colab": {}
      },
      "source": [
        "# # Perform face morphing by interpolating the latent space of StyleGAN\n",
        "!python face_morphing_latent_interpolation.py --batch_size={bs} --lr={lr} --iterations={it} --use_resnet={use_resnet} --use_vgg_loss={vgg_loss} --use_pixel_loss={pixel_loss} --use_mssim_loss={mssim_loss} --use_lpips_loss={lpips_loss} --use_l1_penalty={l1_penalty} aligned_images/ generated_images/latent_interpolation/ guessed_images/latent_interpolation/ latent_representations/latent_interpolation/\n",
        "print(\"\\n************ Latent code optimization finished! ***************\")"
      ],
      "execution_count": 0,
      "outputs": []
    },
    {
      "cell_type": "code",
      "metadata": {
        "id": "XoMdF26TGWwV",
        "colab_type": "code",
        "colab": {}
      },
      "source": [
        "display_results_face_morphing('aligned_images/', 'generated_images/latent_interpolation/', res=256, fs=25)"
      ],
      "execution_count": 0,
      "outputs": []
    },
    {
      "cell_type": "code",
      "metadata": {
        "id": "dWEc0ht5lDfl",
        "colab_type": "code",
        "colab": {}
      },
      "source": [
        "display_results_face_recognition('aligned_images/', 'generated_images/latent_interpolation/', tolerance=0.6, res=256, fs=25)"
      ],
      "execution_count": 0,
      "outputs": []
    },
    {
      "cell_type": "markdown",
      "metadata": {
        "id": "x6shc59Or3E0",
        "colab_type": "text"
      },
      "source": [
        "## 3) Face Morphing by concurrent optimization"
      ]
    },
    {
      "cell_type": "code",
      "metadata": {
        "id": "1ys1hU5tsKHM",
        "colab_type": "code",
        "colab": {}
      },
      "source": [
        "# TODO : Setting up options for encoding process\n",
        "\n",
        "# General options\n",
        "bs = 2             # Batch size\n",
        "lr = 0.02          # Learning rate for perceptual model\n",
        "it = 100           # Number of optimization steps\n",
        "use_resnet = True  # Use pretrained ResNet for approximating dlatents\n",
        "face_mask = True   # Generate a mask for predicting only the face area\n",
        "\n",
        "\n",
        "# Loss options\n",
        "vgg_loss   = 0.4   # (default=0.4) - Use VGG perceptual loss\n",
        "pixel_loss = 1.5   # (default=1.5) - Use logcosh image pixel loss\n",
        "mssim_loss = 100   # (default=100) - Use MS-SIM perceptual loss\n",
        "lpips_loss = 100   # (default=100) - Use LPIPS perceptual loss\n",
        "l1_penalty = 4     # (default=1  ) - Use L1 penalty on latents\n"
      ],
      "execution_count": 0,
      "outputs": []
    },
    {
      "cell_type": "code",
      "metadata": {
        "id": "v9slYMnAs9Mq",
        "colab_type": "code",
        "colab": {}
      },
      "source": [
        "!python face_morphing_concurrent_optimization.py --batch_size={bs} --lr={lr} --iterations={it} --use_resnet={use_resnet} --face_mask={face_mask} --use_vgg_loss={vgg_loss} --use_pixel_loss={pixel_loss} --use_mssim_loss={mssim_loss} --use_lpips_loss={lpips_loss} --use_l1_penalty={l1_penalty} aligned_images/ generated_images/concurrent_optimization/ guessed_images/concurrent_optimization/ latent_representations/concurrent_optimization/\n",
        "print(\"\\n************ Latent code optimization finished! ***************\")"
      ],
      "execution_count": 0,
      "outputs": []
    },
    {
      "cell_type": "code",
      "metadata": {
        "id": "rFBS5ZCiu9tb",
        "colab_type": "code",
        "colab": {}
      },
      "source": [
        "display_results_face_morphing('aligned_images/', 'generated_images/concurrent_optimization_2/', res=256, fs=25)"
      ],
      "execution_count": 0,
      "outputs": []
    },
    {
      "cell_type": "code",
      "metadata": {
        "id": "LNUJbB5u0ytg",
        "colab_type": "code",
        "colab": {}
      },
      "source": [
        "display_results_face_recognition('aligned_images/', 'generated_images/concurrent_optimization_2/', tolerance=0.6, res=256, fs=25)"
      ],
      "execution_count": 0,
      "outputs": []
    },
    {
      "cell_type": "code",
      "metadata": {
        "id": "lNNfn9vIs_QG",
        "colab_type": "code",
        "colab": {}
      },
      "source": [
        "%cd FaceMorphing\n",
        "!ls"
      ],
      "execution_count": 0,
      "outputs": []
    },
    {
      "cell_type": "code",
      "metadata": {
        "id": "iTY6i_v38WFl",
        "colab_type": "code",
        "colab": {}
      },
      "source": [
        "# Zipping results to save them\n",
        "\n",
        "#!zip -r aligned_images.zip aligned_images/\n",
        "#!zip -r guessed_images.zip guessed_images/\n",
        "#!zip -r generated_images.zip generated_images/\n",
        "#!zip -r latent_representations.zip latent_representations/"
      ],
      "execution_count": 0,
      "outputs": []
    },
    {
      "cell_type": "code",
      "metadata": {
        "id": "nZmP9Ey9xI1Y",
        "colab_type": "code",
        "colab": {}
      },
      "source": [
        ""
      ],
      "execution_count": 0,
      "outputs": []
    }
  ]
}